{
  "nbformat": 4,
  "nbformat_minor": 0,
  "metadata": {
    "colab": {
      "provenance": [],
      "authorship_tag": "ABX9TyOvsdJmr7PbyznHQNy1kkyl",
      "include_colab_link": true
    },
    "kernelspec": {
      "name": "python3",
      "display_name": "Python 3"
    },
    "language_info": {
      "name": "python"
    }
  },
  "cells": [
    {
      "cell_type": "markdown",
      "metadata": {
        "id": "view-in-github",
        "colab_type": "text"
      },
      "source": [
        "<a href=\"https://colab.research.google.com/github/S-Mas/testing/blob/master/DataScienceEcosystem2.ipynb\" target=\"_parent\"><img src=\"https://colab.research.google.com/assets/colab-badge.svg\" alt=\"Open In Colab\"/></a>"
      ]
    },
    {
      "cell_type": "markdown",
      "source": [
        "#Data Science Tools and Ecosystem\n",
        "\n"
      ],
      "metadata": {
        "id": "DxE2bTsGWUqV"
      }
    },
    {
      "cell_type": "markdown",
      "source": [
        "In this notebook, Data Science Tools and Ecosystem are summarized."
      ],
      "metadata": {
        "id": "E6ZnbntEXZ36"
      }
    },
    {
      "cell_type": "markdown",
      "source": [
        "Some of the popular languages that Data Scientists use are:\n",
        "\n",
        "\n",
        "*   Python\n",
        "*   C\n",
        "*   SQL\n",
        "*   Julia\n",
        "\n",
        "\n",
        "\n"
      ],
      "metadata": {
        "id": "b4EE1psQXsO7"
      }
    },
    {
      "cell_type": "markdown",
      "source": [
        "Some of the commonly used libraries used by Data Scientists include:\n",
        "\n",
        "\n",
        "1.   GGplot\n",
        "2.   Numpy\n",
        "3.   Pandas\n",
        "4.   Tensorflow\n",
        "\n",
        "\n"
      ],
      "metadata": {
        "id": "GqU344GyYL76"
      }
    },
    {
      "cell_type": "markdown",
      "source": [
        "Data Science   | Tools\n",
        "-------------------|------------------\n",
        "RStudio     |\n",
        "Jupyter Labs      |\n",
        "Spyder     |\n"
      ],
      "metadata": {
        "id": "g04b9oXwZmM6"
      }
    },
    {
      "cell_type": "markdown",
      "source": [
        "### Below are a few examples of evaluating arithmetic expressions in Python"
      ],
      "metadata": {
        "id": "_qzGGIRQetOf"
      }
    },
    {
      "cell_type": "code",
      "source": [
        "#This a simple arithmetic expression to mutiply then add integers\n",
        "(3*4)+5"
      ],
      "metadata": {
        "colab": {
          "base_uri": "https://localhost:8080/"
        },
        "id": "h8RQwmPle738",
        "outputId": "074f243e-983a-4b5e-c24a-6aa1b3cfecb7"
      },
      "execution_count": 2,
      "outputs": [
        {
          "output_type": "execute_result",
          "data": {
            "text/plain": [
              "17"
            ]
          },
          "metadata": {},
          "execution_count": 2
        }
      ]
    },
    {
      "cell_type": "code",
      "source": [
        " #This will convert 200 minutes to hours by diving by 60\n",
        " 200/60"
      ],
      "metadata": {
        "colab": {
          "base_uri": "https://localhost:8080/"
        },
        "id": "I3OTLCYafsVU",
        "outputId": "3609c01b-5647-49e3-eb01-5cdb9467d7bc"
      },
      "execution_count": 3,
      "outputs": [
        {
          "output_type": "execute_result",
          "data": {
            "text/plain": [
              "3.3333333333333335"
            ]
          },
          "metadata": {},
          "execution_count": 3
        }
      ]
    },
    {
      "cell_type": "markdown",
      "source": [
        "**Objectives:**"
      ],
      "metadata": {
        "id": "-GMU8cH5gbkw"
      }
    },
    {
      "cell_type": "markdown",
      "source": [
        "\n",
        "\n",
        "*   Popular languages\n",
        "*   Commonly used libraries\n",
        "*   Data Science Tools\n",
        "\n",
        "\n",
        "\n"
      ],
      "metadata": {
        "id": "2YOs3XW9gmep"
      }
    }
  ]
}